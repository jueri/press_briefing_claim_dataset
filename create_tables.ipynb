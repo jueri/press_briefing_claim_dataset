{
 "cells": [
  {
   "cell_type": "markdown",
   "metadata": {},
   "source": [
    "# Create SMC claim dataset tables\n",
    "This notebook guides through the creation of tables from the SQLite database. Flat data tables are needed for downstream tasks, e.g., annotation and model training. \n",
    "\n",
    "**Table of content:**\n",
    "1. Create metadata table"
   ]
  },
  {
   "cell_type": "code",
   "execution_count": 21,
   "metadata": {},
   "outputs": [],
   "source": [
    "import sqlite3\n",
    "import os\n",
    "\n",
    "import pandas as pd\n",
    "\n",
    "from config import DB_PATH, BASE_DIR"
   ]
  },
  {
   "cell_type": "markdown",
   "metadata": {},
   "source": [
    "### 1. Create metadata table"
   ]
  },
  {
   "cell_type": "code",
   "execution_count": 2,
   "metadata": {},
   "outputs": [],
   "source": [
    "connection = sqlite3.connect(DB_PATH)"
   ]
  },
  {
   "cell_type": "code",
   "execution_count": 5,
   "metadata": {},
   "outputs": [
    {
     "data": {
      "text/html": [
       "<div>\n",
       "<style scoped>\n",
       "    .dataframe tbody tr th:only-of-type {\n",
       "        vertical-align: middle;\n",
       "    }\n",
       "\n",
       "    .dataframe tbody tr th {\n",
       "        vertical-align: top;\n",
       "    }\n",
       "\n",
       "    .dataframe thead th {\n",
       "        text-align: right;\n",
       "    }\n",
       "</style>\n",
       "<table border=\"1\" class=\"dataframe\">\n",
       "  <thead>\n",
       "    <tr style=\"text-align: right;\">\n",
       "      <th></th>\n",
       "      <th>pb_ID</th>\n",
       "      <th>title</th>\n",
       "      <th>date</th>\n",
       "    </tr>\n",
       "  </thead>\n",
       "  <tbody>\n",
       "    <tr>\n",
       "      <th>0</th>\n",
       "      <td>1</td>\n",
       "      <td>Welche nationale Teststrategie bringt uns opti...</td>\n",
       "      <td>09.10.2020</td>\n",
       "    </tr>\n",
       "    <tr>\n",
       "      <th>1</th>\n",
       "      <td>2</td>\n",
       "      <td>Früherkennung von Alzheimer – Je früher, desto...</td>\n",
       "      <td>15.09.2017</td>\n",
       "    </tr>\n",
       "    <tr>\n",
       "      <th>2</th>\n",
       "      <td>3</td>\n",
       "      <td>Desinformation vor der Europawahl – Wie groß i...</td>\n",
       "      <td>12.04.2019</td>\n",
       "    </tr>\n",
       "    <tr>\n",
       "      <th>3</th>\n",
       "      <td>4</td>\n",
       "      <td>Wie lassen sich der Kampf gegen den Klimawande...</td>\n",
       "      <td>08.06.2021</td>\n",
       "    </tr>\n",
       "    <tr>\n",
       "      <th>4</th>\n",
       "      <td>5</td>\n",
       "      <td>Zukünftige Teststrategien auf SARS-CoV-2 und  ...</td>\n",
       "      <td>09.04.2020</td>\n",
       "    </tr>\n",
       "  </tbody>\n",
       "</table>\n",
       "</div>"
      ],
      "text/plain": [
       "   pb_ID                                              title        date\n",
       "0      1  Welche nationale Teststrategie bringt uns opti...  09.10.2020\n",
       "1      2  Früherkennung von Alzheimer – Je früher, desto...  15.09.2017\n",
       "2      3  Desinformation vor der Europawahl – Wie groß i...  12.04.2019\n",
       "3      4  Wie lassen sich der Kampf gegen den Klimawande...  08.06.2021\n",
       "4      5  Zukünftige Teststrategien auf SARS-CoV-2 und  ...  09.04.2020"
      ]
     },
     "execution_count": 5,
     "metadata": {},
     "output_type": "execute_result"
    }
   ],
   "source": [
    "metadata_table = pd.read_sql_query(\"SELECT pb_ID, title, date FROM Press_Briefing\", connection)  # + topic , resort\n",
    "metadata_table.head()"
   ]
  },
  {
   "cell_type": "markdown",
   "metadata": {},
   "source": [
    "### 2. Create data table\n"
   ]
  },
  {
   "cell_type": "code",
   "execution_count": 19,
   "metadata": {},
   "outputs": [
    {
     "data": {
      "text/html": [
       "<div>\n",
       "<style scoped>\n",
       "    .dataframe tbody tr th:only-of-type {\n",
       "        vertical-align: middle;\n",
       "    }\n",
       "\n",
       "    .dataframe tbody tr th {\n",
       "        vertical-align: top;\n",
       "    }\n",
       "\n",
       "    .dataframe thead th {\n",
       "        text-align: right;\n",
       "    }\n",
       "</style>\n",
       "<table border=\"1\" class=\"dataframe\">\n",
       "  <thead>\n",
       "    <tr style=\"text-align: right;\">\n",
       "      <th></th>\n",
       "      <th>sentence_ID</th>\n",
       "      <th>title</th>\n",
       "      <th>sentence</th>\n",
       "    </tr>\n",
       "  </thead>\n",
       "  <tbody>\n",
       "    <tr>\n",
       "      <th>0</th>\n",
       "      <td>1</td>\n",
       "      <td>Welche nationale Teststrategie bringt uns opti...</td>\n",
       "      <td>Transkript</td>\n",
       "    </tr>\n",
       "    <tr>\n",
       "      <th>1</th>\n",
       "      <td>2</td>\n",
       "      <td>Welche nationale Teststrategie bringt uns opti...</td>\n",
       "      <td>Herzlich willkommen zum heutigen Press Briefin...</td>\n",
       "    </tr>\n",
       "    <tr>\n",
       "      <th>2</th>\n",
       "      <td>3</td>\n",
       "      <td>Welche nationale Teststrategie bringt uns opti...</td>\n",
       "      <td>Mein Name ist Moderatorin, ich bin Redakteurin...</td>\n",
       "    </tr>\n",
       "    <tr>\n",
       "      <th>3</th>\n",
       "      <td>4</td>\n",
       "      <td>Welche nationale Teststrategie bringt uns opti...</td>\n",
       "      <td>Ich begrüße die teilnehmenden Journalisten und...</td>\n",
       "    </tr>\n",
       "    <tr>\n",
       "      <th>4</th>\n",
       "      <td>5</td>\n",
       "      <td>Welche nationale Teststrategie bringt uns opti...</td>\n",
       "      <td>Der Herbst ist da, die Infektionszahlen steige...</td>\n",
       "    </tr>\n",
       "  </tbody>\n",
       "</table>\n",
       "</div>"
      ],
      "text/plain": [
       "   sentence_ID                                              title  \\\n",
       "0            1  Welche nationale Teststrategie bringt uns opti...   \n",
       "1            2  Welche nationale Teststrategie bringt uns opti...   \n",
       "2            3  Welche nationale Teststrategie bringt uns opti...   \n",
       "3            4  Welche nationale Teststrategie bringt uns opti...   \n",
       "4            5  Welche nationale Teststrategie bringt uns opti...   \n",
       "\n",
       "                                            sentence  \n",
       "0                                         Transkript  \n",
       "1  Herzlich willkommen zum heutigen Press Briefin...  \n",
       "2  Mein Name ist Moderatorin, ich bin Redakteurin...  \n",
       "3  Ich begrüße die teilnehmenden Journalisten und...  \n",
       "4  Der Herbst ist da, die Infektionszahlen steige...  "
      ]
     },
     "execution_count": 19,
     "metadata": {},
     "output_type": "execute_result"
    }
   ],
   "source": [
    "data_table = pd.read_sql_query(\"\"\"SELECT Sentence.sentence_ID, title, sentence\n",
    "        FROM Sentence \n",
    "        JOIN Press_Briefing ON Sentence.pb_ID = Press_Briefing.pb_ID\"\"\", connection)\n",
    "data_table.head()"
   ]
  },
  {
   "cell_type": "code",
   "execution_count": 22,
   "metadata": {},
   "outputs": [],
   "source": [
    "data_table.to_csv(os.path.join(BASE_DIR, \"SMC_claim_sentences.csv\"), index=False)"
   ]
  },
  {
   "cell_type": "code",
   "execution_count": null,
   "metadata": {},
   "outputs": [],
   "source": []
  }
 ],
 "metadata": {
  "interpreter": {
   "hash": "949777d72b0d2535278d3dc13498b2535136f6dfe0678499012e853ee9abcab1"
  },
  "kernelspec": {
   "display_name": "Python 3.9.7 64-bit",
   "language": "python",
   "name": "python3"
  },
  "language_info": {
   "codemirror_mode": {
    "name": "ipython",
    "version": 3
   },
   "file_extension": ".py",
   "mimetype": "text/x-python",
   "name": "python",
   "nbconvert_exporter": "python",
   "pygments_lexer": "ipython3",
   "version": "3.9.9"
  },
  "orig_nbformat": 4
 },
 "nbformat": 4,
 "nbformat_minor": 2
}
