{
 "cells": [
  {
   "cell_type": "markdown",
   "metadata": {},
   "source": [
    "# Dataset analysis"
   ]
  },
  {
   "cell_type": "code",
   "execution_count": 140,
   "metadata": {},
   "outputs": [],
   "source": [
    "import os\n",
    "import sqlite3\n",
    "\n",
    "import numpy as np\n",
    "import pandas as pd\n",
    "import matplotlib.pyplot as plt  # type: ignore\n",
    "\n",
    "from config import DB_PATH"
   ]
  },
  {
   "cell_type": "code",
   "execution_count": 38,
   "metadata": {},
   "outputs": [],
   "source": [
    "connection = sqlite3.connect(DB_PATH)"
   ]
  },
  {
   "cell_type": "markdown",
   "metadata": {},
   "source": [
    "### SMC claim dataset:"
   ]
  },
  {
   "cell_type": "code",
   "execution_count": 78,
   "metadata": {},
   "outputs": [
    {
     "data": {
      "text/plain": [
       "sentence_ID    25040\n",
       "dtype: int64"
      ]
     },
     "execution_count": 78,
     "metadata": {},
     "output_type": "execute_result"
    }
   ],
   "source": [
    "# Number Sentences\n",
    "pd.read_sql_query(\"\"\"\n",
    "SELECT sentence_ID\n",
    "FROM Sentence \n",
    "\"\"\", connection).count()"
   ]
  },
  {
   "cell_type": "code",
   "execution_count": 79,
   "metadata": {},
   "outputs": [
    {
     "data": {
      "text/plain": [
       "pb_ID    53\n",
       "dtype: int64"
      ]
     },
     "execution_count": 79,
     "metadata": {},
     "output_type": "execute_result"
    }
   ],
   "source": [
    "# Number press briefing\n",
    "pd.read_sql_query(\"\"\"\n",
    "SELECT pb_ID\n",
    "FROM Press_Briefing \n",
    "\"\"\", connection).count()"
   ]
  },
  {
   "cell_type": "code",
   "execution_count": 81,
   "metadata": {},
   "outputs": [
    {
     "data": {
      "text/plain": [
       "segment_ID    3066\n",
       "dtype: int64"
      ]
     },
     "execution_count": 81,
     "metadata": {},
     "output_type": "execute_result"
    }
   ],
   "source": [
    "# Number passages\n",
    "pd.read_sql_query(\"\"\"\n",
    "SELECT segment_ID\n",
    "FROM Segment \n",
    "\"\"\", connection).count()"
   ]
  },
  {
   "cell_type": "code",
   "execution_count": 18,
   "metadata": {},
   "outputs": [
    {
     "data": {
      "text/html": [
       "<div>\n",
       "<style scoped>\n",
       "    .dataframe tbody tr th:only-of-type {\n",
       "        vertical-align: middle;\n",
       "    }\n",
       "\n",
       "    .dataframe tbody tr th {\n",
       "        vertical-align: top;\n",
       "    }\n",
       "\n",
       "    .dataframe thead th {\n",
       "        text-align: right;\n",
       "    }\n",
       "</style>\n",
       "<table border=\"1\" class=\"dataframe\">\n",
       "  <thead>\n",
       "    <tr style=\"text-align: right;\">\n",
       "      <th></th>\n",
       "      <th>resort</th>\n",
       "      <th>num_passages</th>\n",
       "      <th>afiliation</th>\n",
       "    </tr>\n",
       "  </thead>\n",
       "  <tbody>\n",
       "    <tr>\n",
       "      <th>0</th>\n",
       "      <td>Klima</td>\n",
       "      <td>139</td>\n",
       "      <td>None</td>\n",
       "    </tr>\n",
       "    <tr>\n",
       "      <th>1</th>\n",
       "      <td>Klima</td>\n",
       "      <td>96</td>\n",
       "      <td>SMC</td>\n",
       "    </tr>\n",
       "    <tr>\n",
       "      <th>2</th>\n",
       "      <td>Medizin</td>\n",
       "      <td>1300</td>\n",
       "      <td>None</td>\n",
       "    </tr>\n",
       "    <tr>\n",
       "      <th>3</th>\n",
       "      <td>Medizin</td>\n",
       "      <td>1023</td>\n",
       "      <td>SMC</td>\n",
       "    </tr>\n",
       "    <tr>\n",
       "      <th>4</th>\n",
       "      <td>Technik</td>\n",
       "      <td>258</td>\n",
       "      <td>None</td>\n",
       "    </tr>\n",
       "    <tr>\n",
       "      <th>5</th>\n",
       "      <td>Technik</td>\n",
       "      <td>159</td>\n",
       "      <td>SMC</td>\n",
       "    </tr>\n",
       "    <tr>\n",
       "      <th>6</th>\n",
       "      <td>Wissenschaft</td>\n",
       "      <td>22</td>\n",
       "      <td>None</td>\n",
       "    </tr>\n",
       "    <tr>\n",
       "      <th>7</th>\n",
       "      <td>Wissenschaft</td>\n",
       "      <td>16</td>\n",
       "      <td>SMC</td>\n",
       "    </tr>\n",
       "  </tbody>\n",
       "</table>\n",
       "</div>"
      ],
      "text/plain": [
       "         resort  num_passages afiliation\n",
       "0         Klima           139       None\n",
       "1         Klima            96        SMC\n",
       "2       Medizin          1300       None\n",
       "3       Medizin          1023        SMC\n",
       "4       Technik           258       None\n",
       "5       Technik           159        SMC\n",
       "6  Wissenschaft            22       None\n",
       "7  Wissenschaft            16        SMC"
      ]
     },
     "execution_count": 18,
     "metadata": {},
     "output_type": "execute_result"
    }
   ],
   "source": [
    "# Number sentences per speaker and resort\n",
    "pd.read_sql_query(\"\"\"\n",
    "SELECT Press_Briefing.resort, count(DISTINCT Sentence.segment_ID) as num_segment, afiliation\n",
    "FROM Sentence\n",
    "JOIN Segment\n",
    "ON Segment.segment_ID = Sentence.segment_ID\n",
    "JOIN Person\n",
    "ON Person.person_ID = Segment.speaker\n",
    "JOIN Press_Briefing\n",
    "ON Press_Briefing.pb_ID = Sentence.pb_ID\n",
    "GROUP BY Press_Briefing.resort, afiliation\n",
    "\"\"\", connection)"
   ]
  },
  {
   "cell_type": "code",
   "execution_count": 12,
   "metadata": {},
   "outputs": [
    {
     "data": {
      "text/plain": [
       "1719"
      ]
     },
     "execution_count": 12,
     "metadata": {},
     "output_type": "execute_result"
    }
   ],
   "source": [
    "# Number guest passages\n",
    "aff = pd.read_sql_query(\"\"\"\n",
    "SELECT *\n",
    "FROM Segment\n",
    "JOIN Person\n",
    "ON Person.person_ID = Segment.speaker\n",
    "\"\"\", connection)\n",
    "\n",
    "aff[aff[\"afiliation\"]!=\"SMC\"][\"segment_ID\"].count()"
   ]
  },
  {
   "cell_type": "code",
   "execution_count": 13,
   "metadata": {},
   "outputs": [
    {
     "data": {
      "text/plain": [
       "1294"
      ]
     },
     "execution_count": 13,
     "metadata": {},
     "output_type": "execute_result"
    }
   ],
   "source": [
    "# Number moderator passages\n",
    "aff[aff[\"afiliation\"]==\"SMC\"][\"segment_ID\"].count()"
   ]
  },
  {
   "cell_type": "code",
   "execution_count": 10,
   "metadata": {},
   "outputs": [
    {
     "data": {
      "text/html": [
       "<div>\n",
       "<style scoped>\n",
       "    .dataframe tbody tr th:only-of-type {\n",
       "        vertical-align: middle;\n",
       "    }\n",
       "\n",
       "    .dataframe tbody tr th {\n",
       "        vertical-align: top;\n",
       "    }\n",
       "\n",
       "    .dataframe thead th {\n",
       "        text-align: right;\n",
       "    }\n",
       "</style>\n",
       "<table border=\"1\" class=\"dataframe\">\n",
       "  <thead>\n",
       "    <tr style=\"text-align: right;\">\n",
       "      <th></th>\n",
       "      <th>afiliation</th>\n",
       "      <th>num_guests</th>\n",
       "    </tr>\n",
       "  </thead>\n",
       "  <tbody>\n",
       "    <tr>\n",
       "      <th>0</th>\n",
       "      <td>None</td>\n",
       "      <td>177</td>\n",
       "    </tr>\n",
       "    <tr>\n",
       "      <th>1</th>\n",
       "      <td>SMC</td>\n",
       "      <td>9</td>\n",
       "    </tr>\n",
       "  </tbody>\n",
       "</table>\n",
       "</div>"
      ],
      "text/plain": [
       "  afiliation  num_guests\n",
       "0       None         177\n",
       "1        SMC           9"
      ]
     },
     "execution_count": 10,
     "metadata": {},
     "output_type": "execute_result"
    }
   ],
   "source": [
    "# Number guests\n",
    "pd.read_sql_query(\"\"\"\n",
    "SELECT afiliation, COUNT(DISTINCT is_guest.person_ID) as num_guests\n",
    "FROM is_guest\n",
    "JOIN Person\n",
    "ON Person.person_ID = is_guest.person_ID\n",
    "GROUP BY afiliation\n",
    "\"\"\", connection)"
   ]
  },
  {
   "cell_type": "code",
   "execution_count": 78,
   "metadata": {},
   "outputs": [],
   "source": [
    "# Avg Number guests\n",
    "num_person = pd.read_sql_query(\"\"\"\n",
    "SELECT pb_ID , COUNT( DISTINCT person_ID) as num_guests\n",
    "FROM is_guest\n",
    "GROUP BY pb_ID\n",
    "\"\"\", connection)"
   ]
  },
  {
   "cell_type": "code",
   "execution_count": 92,
   "metadata": {},
   "outputs": [
    {
     "data": {
      "text/plain": [
       "<AxesSubplot:>"
      ]
     },
     "execution_count": 92,
     "metadata": {},
     "output_type": "execute_result"
    },
    {
     "data": {
      "image/png": "[encoded data removed]",
      "text/plain": [
       "<Figure size 432x288 with 1 Axes>"
      ]
     },
     "metadata": {},
     "output_type": "display_data"
    }
   ],
   "source": [
    "plt.figure(facecolor=\"white\")\n",
    "num_person[\"num_guests\"].sort_values().reset_index(drop=True).plot.line()"
   ]
  },
  {
   "cell_type": "code",
   "execution_count": 96,
   "metadata": {},
   "outputs": [
    {
     "data": {
      "text/plain": [
       "4.266666666666667"
      ]
     },
     "execution_count": 96,
     "metadata": {},
     "output_type": "execute_result"
    }
   ],
   "source": [
    "q_hi  = num_person[\"num_guests\"].quantile(0.9)  # exclude top .1 percetiles as outliers\n",
    "\n",
    "num_person[num_person[\"num_guests\"] < q_hi][\"num_guests\"].mean()"
   ]
  },
  {
   "cell_type": "code",
   "execution_count": 32,
   "metadata": {},
   "outputs": [
    {
     "data": {
      "text/html": [
       "<div>\n",
       "<style scoped>\n",
       "    .dataframe tbody tr th:only-of-type {\n",
       "        vertical-align: middle;\n",
       "    }\n",
       "\n",
       "    .dataframe tbody tr th {\n",
       "        vertical-align: top;\n",
       "    }\n",
       "\n",
       "    .dataframe thead th {\n",
       "        text-align: right;\n",
       "    }\n",
       "</style>\n",
       "<table border=\"1\" class=\"dataframe\">\n",
       "  <thead>\n",
       "    <tr style=\"text-align: right;\">\n",
       "      <th></th>\n",
       "      <th>resort</th>\n",
       "      <th>num_sentences</th>\n",
       "      <th>afiliation</th>\n",
       "    </tr>\n",
       "  </thead>\n",
       "  <tbody>\n",
       "    <tr>\n",
       "      <th>0</th>\n",
       "      <td>Klima</td>\n",
       "      <td>1409</td>\n",
       "      <td>None</td>\n",
       "    </tr>\n",
       "    <tr>\n",
       "      <th>1</th>\n",
       "      <td>Klima</td>\n",
       "      <td>389</td>\n",
       "      <td>SMC</td>\n",
       "    </tr>\n",
       "    <tr>\n",
       "      <th>2</th>\n",
       "      <td>Medizin</td>\n",
       "      <td>13973</td>\n",
       "      <td>None</td>\n",
       "    </tr>\n",
       "    <tr>\n",
       "      <th>3</th>\n",
       "      <td>Medizin</td>\n",
       "      <td>4696</td>\n",
       "      <td>SMC</td>\n",
       "    </tr>\n",
       "    <tr>\n",
       "      <th>4</th>\n",
       "      <td>Technik</td>\n",
       "      <td>3292</td>\n",
       "      <td>None</td>\n",
       "    </tr>\n",
       "    <tr>\n",
       "      <th>5</th>\n",
       "      <td>Technik</td>\n",
       "      <td>777</td>\n",
       "      <td>SMC</td>\n",
       "    </tr>\n",
       "    <tr>\n",
       "      <th>6</th>\n",
       "      <td>Wissenschaft</td>\n",
       "      <td>268</td>\n",
       "      <td>None</td>\n",
       "    </tr>\n",
       "    <tr>\n",
       "      <th>7</th>\n",
       "      <td>Wissenschaft</td>\n",
       "      <td>93</td>\n",
       "      <td>SMC</td>\n",
       "    </tr>\n",
       "  </tbody>\n",
       "</table>\n",
       "</div>"
      ],
      "text/plain": [
       "         resort  num_sentences afiliation\n",
       "0         Klima           1409       None\n",
       "1         Klima            389        SMC\n",
       "2       Medizin          13973       None\n",
       "3       Medizin           4696        SMC\n",
       "4       Technik           3292       None\n",
       "5       Technik            777        SMC\n",
       "6  Wissenschaft            268       None\n",
       "7  Wissenschaft             93        SMC"
      ]
     },
     "execution_count": 32,
     "metadata": {},
     "output_type": "execute_result"
    }
   ],
   "source": [
    "# Number sentences per speaker and resort\n",
    "pd.read_sql_query(\"\"\"\n",
    "SELECT Press_Briefing.resort, count(sentence_ID) as num_sentences, afiliation\n",
    "FROM Sentence\n",
    "JOIN Segment\n",
    "ON Segment.segment_ID = Sentence.segment_ID\n",
    "JOIN Person\n",
    "ON Person.person_ID = Segment.speaker\n",
    "JOIN Press_Briefing\n",
    "ON Press_Briefing.pb_ID = Sentence.pb_ID\n",
    "GROUP BY Press_Briefing.resort, afiliation\n",
    "\"\"\", connection)"
   ]
  },
  {
   "cell_type": "code",
   "execution_count": 29,
   "metadata": {},
   "outputs": [
    {
     "data": {
      "text/html": [
       "<div>\n",
       "<style scoped>\n",
       "    .dataframe tbody tr th:only-of-type {\n",
       "        vertical-align: middle;\n",
       "    }\n",
       "\n",
       "    .dataframe tbody tr th {\n",
       "        vertical-align: top;\n",
       "    }\n",
       "\n",
       "    .dataframe thead th {\n",
       "        text-align: right;\n",
       "    }\n",
       "</style>\n",
       "<table border=\"1\" class=\"dataframe\">\n",
       "  <thead>\n",
       "    <tr style=\"text-align: right;\">\n",
       "      <th></th>\n",
       "      <th>resort</th>\n",
       "      <th>num_resort</th>\n",
       "    </tr>\n",
       "  </thead>\n",
       "  <tbody>\n",
       "    <tr>\n",
       "      <th>0</th>\n",
       "      <td>Klima</td>\n",
       "      <td>4</td>\n",
       "    </tr>\n",
       "    <tr>\n",
       "      <th>1</th>\n",
       "      <td>Medizin</td>\n",
       "      <td>39</td>\n",
       "    </tr>\n",
       "    <tr>\n",
       "      <th>2</th>\n",
       "      <td>Technik</td>\n",
       "      <td>9</td>\n",
       "    </tr>\n",
       "    <tr>\n",
       "      <th>3</th>\n",
       "      <td>Wissenschaft</td>\n",
       "      <td>1</td>\n",
       "    </tr>\n",
       "  </tbody>\n",
       "</table>\n",
       "</div>"
      ],
      "text/plain": [
       "         resort  num_resort\n",
       "0         Klima           4\n",
       "1       Medizin          39\n",
       "2       Technik           9\n",
       "3  Wissenschaft           1"
      ]
     },
     "execution_count": 29,
     "metadata": {},
     "output_type": "execute_result"
    }
   ],
   "source": [
    "# Number PB per resort\n",
    "pb_resort = pd.read_sql_query(\"\"\"\n",
    "SELECT resort, count(pb_ID) as num_resort\n",
    "FROM Press_Briefing\n",
    "GROUP BY resort\n",
    "\"\"\", connection)\n",
    "pb_resort"
   ]
  },
  {
   "cell_type": "code",
   "execution_count": 275,
   "metadata": {},
   "outputs": [
    {
     "data": {
      "text/plain": [
       "'https://www.sciencemediacenter.de/fileadmin/user_upload/Press_Briefing_Zubehoer/Transkript_Preprints_Unsicherheit_SMC_Press-Briefing_20052020.pdf'"
      ]
     },
     "execution_count": 275,
     "metadata": {},
     "output_type": "execute_result"
    }
   ],
   "source": [
    "# Number PB per resort\n",
    "pb_resort = pd.read_sql_query(\"\"\"\n",
    "SELECT *\n",
    "FROM Press_Briefing\n",
    "WHERE resort = \"Wissenschaft\"\n",
    "\"\"\", connection)\n",
    "pb_resort[\"pdf_url\"].iloc[0]"
   ]
  },
  {
   "cell_type": "code",
   "execution_count": 36,
   "metadata": {},
   "outputs": [
    {
     "data": {
      "text/plain": [
       "<AxesSubplot:xlabel='resort'>"
      ]
     },
     "execution_count": 36,
     "metadata": {},
     "output_type": "execute_result"
    },
    {
     "data": {
      "text/plain": [
       "<Figure size 432x288 with 0 Axes>"
      ]
     },
     "metadata": {},
     "output_type": "display_data"
    },
    {
     "data": {
      "image/png": "[encoded data removed]",
      "text/plain": [
       "<Figure size 432x288 with 1 Axes>"
      ]
     },
     "metadata": {
      "needs_background": "light"
     },
     "output_type": "display_data"
    }
   ],
   "source": [
    "pb_resort.set_index(\"resort\").plot.bar()"
   ]
  },
  {
   "cell_type": "code",
   "execution_count": 39,
   "metadata": {},
   "outputs": [
    {
     "data": {
      "text/html": [
       "<div>\n",
       "<style scoped>\n",
       "    .dataframe tbody tr th:only-of-type {\n",
       "        vertical-align: middle;\n",
       "    }\n",
       "\n",
       "    .dataframe tbody tr th {\n",
       "        vertical-align: top;\n",
       "    }\n",
       "\n",
       "    .dataframe thead th {\n",
       "        text-align: right;\n",
       "    }\n",
       "</style>\n",
       "<table border=\"1\" class=\"dataframe\">\n",
       "  <thead>\n",
       "    <tr style=\"text-align: right;\">\n",
       "      <th></th>\n",
       "      <th>resort</th>\n",
       "      <th>afiliation</th>\n",
       "      <th>sentence_ID</th>\n",
       "      <th>pb_ID</th>\n",
       "      <th>sentence</th>\n",
       "    </tr>\n",
       "  </thead>\n",
       "  <tbody>\n",
       "    <tr>\n",
       "      <th>0</th>\n",
       "      <td>Medizin</td>\n",
       "      <td>SMC</td>\n",
       "      <td>2</td>\n",
       "      <td>1</td>\n",
       "      <td>Herzlich willkommen zum heutigen Press Briefin...</td>\n",
       "    </tr>\n",
       "    <tr>\n",
       "      <th>1</th>\n",
       "      <td>Medizin</td>\n",
       "      <td>SMC</td>\n",
       "      <td>3</td>\n",
       "      <td>1</td>\n",
       "      <td>Mein Name ist Moderatorin, ich bin Redakteurin...</td>\n",
       "    </tr>\n",
       "    <tr>\n",
       "      <th>2</th>\n",
       "      <td>Medizin</td>\n",
       "      <td>SMC</td>\n",
       "      <td>4</td>\n",
       "      <td>1</td>\n",
       "      <td>Ich begrüße die teilnehmenden Journalisten und...</td>\n",
       "    </tr>\n",
       "    <tr>\n",
       "      <th>3</th>\n",
       "      <td>Medizin</td>\n",
       "      <td>SMC</td>\n",
       "      <td>5</td>\n",
       "      <td>1</td>\n",
       "      <td>Der Herbst ist da, die Infektionszahlen steige...</td>\n",
       "    </tr>\n",
       "    <tr>\n",
       "      <th>4</th>\n",
       "      <td>Medizin</td>\n",
       "      <td>SMC</td>\n",
       "      <td>6</td>\n",
       "      <td>1</td>\n",
       "      <td>Und ein langsamer Anstieg der Neuaufnahmen von...</td>\n",
       "    </tr>\n",
       "  </tbody>\n",
       "</table>\n",
       "</div>"
      ],
      "text/plain": [
       "    resort afiliation  sentence_ID  pb_ID  \\\n",
       "0  Medizin        SMC            2      1   \n",
       "1  Medizin        SMC            3      1   \n",
       "2  Medizin        SMC            4      1   \n",
       "3  Medizin        SMC            5      1   \n",
       "4  Medizin        SMC            6      1   \n",
       "\n",
       "                                            sentence  \n",
       "0  Herzlich willkommen zum heutigen Press Briefin...  \n",
       "1  Mein Name ist Moderatorin, ich bin Redakteurin...  \n",
       "2  Ich begrüße die teilnehmenden Journalisten und...  \n",
       "3  Der Herbst ist da, die Infektionszahlen steige...  \n",
       "4  Und ein langsamer Anstieg der Neuaufnahmen von...  "
      ]
     },
     "execution_count": 39,
     "metadata": {},
     "output_type": "execute_result"
    }
   ],
   "source": [
    "# Mean sentence length\n",
    "sentences = pd.read_sql_query(\"\"\"\n",
    "SELECT Press_Briefing.resort, afiliation, Sentence_ID, Press_Briefing.pb_ID, Sentence\n",
    "FROM Sentence\n",
    "JOIN Segment\n",
    "ON Segment.segment_ID = Sentence.segment_ID\n",
    "JOIN Person\n",
    "ON Person.person_ID = Segment.speaker\n",
    "JOIN Press_Briefing\n",
    "ON Press_Briefing.pb_ID = Sentence.pb_ID\n",
    "\"\"\", connection)\n",
    "sentences.head()"
   ]
  },
  {
   "cell_type": "code",
   "execution_count": 40,
   "metadata": {},
   "outputs": [],
   "source": [
    "sentences[\"sentence_len\"] = sentences[\"sentence\"].apply(lambda x: len(x.split(\" \")))  # split sentences at whitespace and count"
   ]
  },
  {
   "cell_type": "code",
   "execution_count": 41,
   "metadata": {},
   "outputs": [
    {
     "data": {
      "text/plain": [
       "<AxesSubplot:>"
      ]
     },
     "execution_count": 41,
     "metadata": {},
     "output_type": "execute_result"
    },
    {
     "data": {
      "image/png": "[encoded data removed]",
      "text/plain": [
       "<Figure size 432x288 with 1 Axes>"
      ]
     },
     "metadata": {},
     "output_type": "display_data"
    }
   ],
   "source": [
    "plt.figure(facecolor=\"white\")\n",
    "sentences[\"sentence_len\"].sort_values().reset_index(drop=True).plot.line()"
   ]
  },
  {
   "cell_type": "code",
   "execution_count": 42,
   "metadata": {},
   "outputs": [
    {
     "data": {
      "text/plain": [
       "17.307065108245972"
      ]
     },
     "execution_count": 42,
     "metadata": {},
     "output_type": "execute_result"
    }
   ],
   "source": [
    "sentences[\"sentence_len\"].mean()"
   ]
  },
  {
   "cell_type": "code",
   "execution_count": 43,
   "metadata": {},
   "outputs": [],
   "source": [
    "# mean sentence length speaker and guest\n",
    "sentences.afiliation.fillna(\"No\", inplace=True)  # create countable non value"
   ]
  },
  {
   "cell_type": "code",
   "execution_count": 44,
   "metadata": {},
   "outputs": [
    {
     "data": {
      "text/plain": [
       "afiliation\n",
       "No     18.043976\n",
       "SMC    14.963056\n",
       "Name: sentence_len, dtype: float64"
      ]
     },
     "execution_count": 44,
     "metadata": {},
     "output_type": "execute_result"
    }
   ],
   "source": [
    "sentences.groupby(\"afiliation\").mean()[\"sentence_len\"]"
   ]
  },
  {
   "cell_type": "code",
   "execution_count": 45,
   "metadata": {},
   "outputs": [
    {
     "data": {
      "text/plain": [
       "<AxesSubplot:title={'center':'sentence_len'}, xlabel='resort'>"
      ]
     },
     "execution_count": 45,
     "metadata": {},
     "output_type": "execute_result"
    },
    {
     "data": {
      "text/plain": [
       "<Figure size 432x288 with 0 Axes>"
      ]
     },
     "metadata": {},
     "output_type": "display_data"
    },
    {
     "data": {
      "image/png": "[encoded data removed]",
      "text/plain": [
       "<Figure size 432x288 with 1 Axes>"
      ]
     },
     "metadata": {
      "needs_background": "light"
     },
     "output_type": "display_data"
    }
   ],
   "source": [
    "plt.figure(facecolor=\"white\")\n",
    "sentences.boxplot(column=['sentence_len'], by=\"resort\")"
   ]
  },
  {
   "cell_type": "code",
   "execution_count": 28,
   "metadata": {},
   "outputs": [
    {
     "data": {
      "text/plain": [
       "resort\n",
       "Klima           17.575083\n",
       "Medizin         17.099523\n",
       "Technik         17.855247\n",
       "Wissenschaft    20.526316\n",
       "Name: sentence_len, dtype: float64"
      ]
     },
     "execution_count": 28,
     "metadata": {},
     "output_type": "execute_result"
    }
   ],
   "source": [
    "sentences.groupby(by=\"resort\").mean()[\"sentence_len\"]"
   ]
  },
  {
   "cell_type": "code",
   "execution_count": 186,
   "metadata": {},
   "outputs": [
    {
     "data": {
      "text/html": [
       "<div>\n",
       "<style scoped>\n",
       "    .dataframe tbody tr th:only-of-type {\n",
       "        vertical-align: middle;\n",
       "    }\n",
       "\n",
       "    .dataframe tbody tr th {\n",
       "        vertical-align: top;\n",
       "    }\n",
       "\n",
       "    .dataframe thead th {\n",
       "        text-align: right;\n",
       "    }\n",
       "</style>\n",
       "<table border=\"1\" class=\"dataframe\">\n",
       "  <thead>\n",
       "    <tr style=\"text-align: right;\">\n",
       "      <th></th>\n",
       "      <th>date</th>\n",
       "      <th>resort</th>\n",
       "    </tr>\n",
       "  </thead>\n",
       "  <tbody>\n",
       "    <tr>\n",
       "      <th>0</th>\n",
       "      <td>09.10.2020</td>\n",
       "      <td>Medizin</td>\n",
       "    </tr>\n",
       "    <tr>\n",
       "      <th>1</th>\n",
       "      <td>15.09.2017</td>\n",
       "      <td>Medizin</td>\n",
       "    </tr>\n",
       "    <tr>\n",
       "      <th>2</th>\n",
       "      <td>12.04.2019</td>\n",
       "      <td>Technik</td>\n",
       "    </tr>\n",
       "    <tr>\n",
       "      <th>3</th>\n",
       "      <td>08.06.2021</td>\n",
       "      <td>Klima</td>\n",
       "    </tr>\n",
       "    <tr>\n",
       "      <th>4</th>\n",
       "      <td>09.04.2020</td>\n",
       "      <td>Medizin</td>\n",
       "    </tr>\n",
       "  </tbody>\n",
       "</table>\n",
       "</div>"
      ],
      "text/plain": [
       "         date   resort\n",
       "0  09.10.2020  Medizin\n",
       "1  15.09.2017  Medizin\n",
       "2  12.04.2019  Technik\n",
       "3  08.06.2021    Klima\n",
       "4  09.04.2020  Medizin"
      ]
     },
     "execution_count": 186,
     "metadata": {},
     "output_type": "execute_result"
    }
   ],
   "source": [
    "# Zeit\n",
    "pbs = pd.read_sql_query(\"\"\"\n",
    "SELECT date, resort\n",
    "FROM Press_Briefing \n",
    "\"\"\", connection)\n",
    "pbs.head()"
   ]
  },
  {
   "cell_type": "code",
   "execution_count": 187,
   "metadata": {},
   "outputs": [],
   "source": [
    "pbs.date = pd.to_datetime(pbs['date'], format='%d.%m.%Y')"
   ]
  },
  {
   "cell_type": "code",
   "execution_count": 188,
   "metadata": {},
   "outputs": [
    {
     "name": "stdout",
     "output_type": "stream",
     "text": [
      "2017-03-21\n"
     ]
    }
   ],
   "source": [
    "print(pbs.date.min().date())"
   ]
  },
  {
   "cell_type": "code",
   "execution_count": 189,
   "metadata": {},
   "outputs": [
    {
     "name": "stdout",
     "output_type": "stream",
     "text": [
      "2021-08-04\n"
     ]
    }
   ],
   "source": [
    "print(pbs.date.max().date())"
   ]
  },
  {
   "cell_type": "code",
   "execution_count": 190,
   "metadata": {},
   "outputs": [
    {
     "data": {
      "text/plain": [
       "<AxesSubplot:xlabel='date'>"
      ]
     },
     "execution_count": 190,
     "metadata": {},
     "output_type": "execute_result"
    },
    {
     "data": {
      "image/png": "[encoded data removed]",
      "text/plain": [
       "<Figure size 432x288 with 1 Axes>"
      ]
     },
     "metadata": {},
     "output_type": "display_data"
    }
   ],
   "source": [
    "# pro jahr\n",
    "plt.figure(facecolor=\"white\")\n",
    "pbs.groupby(pbs.date.dt.to_period(\"m\")).agg('count')[\"resort\"].plot.bar()"
   ]
  },
  {
   "cell_type": "code",
   "execution_count": 198,
   "metadata": {},
   "outputs": [
    {
     "data": {
      "text/plain": [
       "<AxesSubplot:xlabel='date'>"
      ]
     },
     "execution_count": 198,
     "metadata": {},
     "output_type": "execute_result"
    },
    {
     "data": {
      "image/png": "[encoded data removed]",
      "text/plain": [
       "<Figure size 432x288 with 1 Axes>"
      ]
     },
     "metadata": {},
     "output_type": "display_data"
    }
   ],
   "source": [
    "# 2021 nur halb\n",
    "plt.figure(facecolor=\"white\")\n",
    "pbs.groupby(pbs.date.dt.to_period(\"y\")).agg('count')[\"resort\"].plot.bar(stacked=True)"
   ]
  },
  {
   "cell_type": "code",
   "execution_count": 270,
   "metadata": {},
   "outputs": [
    {
     "data": {
      "text/plain": [
       "<AxesSubplot:xlabel='date'>"
      ]
     },
     "execution_count": 270,
     "metadata": {},
     "output_type": "execute_result"
    },
    {
     "data": {
      "text/plain": [
       "<Figure size 432x288 with 0 Axes>"
      ]
     },
     "metadata": {},
     "output_type": "display_data"
    },
    {
     "data": {
      "image/png": "[encoded data removed]",
      "text/plain": [
       "<Figure size 432x288 with 1 Axes>"
      ]
     },
     "metadata": {
      "needs_background": "light"
     },
     "output_type": "display_data"
    }
   ],
   "source": [
    "# 2021 nur halb\n",
    "df = pbs.groupby([pbs.date.dt.to_period(\"y\"), \"resort\"]).count().rename(columns={'date':'count'}).reset_index()\n",
    "plotdata = pd.pivot_table(df, values='count', index='date', columns='resort')\n",
    "plotdata = plotdata[[\"Medizin\", \"Klima\", \"Technik\", \"Wissenschaft\"]]\n",
    "plt.figure(facecolor=\"white\")\n",
    "plotdata.plot(kind=\"bar\", stacked=True)"
   ]
  },
  {
   "cell_type": "code",
   "execution_count": 271,
   "metadata": {},
   "outputs": [],
   "source": [
    "plotdata.fillna(0, inplace=True)"
   ]
  },
  {
   "cell_type": "code",
   "execution_count": 272,
   "metadata": {},
   "outputs": [
    {
     "data": {
      "text/plain": [
       "Text(0, 0.5, 'Percentage Pies Consumed (%)')"
      ]
     },
     "execution_count": 272,
     "metadata": {},
     "output_type": "execute_result"
    },
    {
     "data": {
      "image/png": "[encoded data removed]",
      "text/plain": [
       "<Figure size 432x288 with 1 Axes>"
      ]
     },
     "metadata": {
      "needs_background": "light"
     },
     "output_type": "display_data"
    }
   ],
   "source": [
    "stacked_data = plotdata.apply(lambda x: x*100/sum(x), axis=1)\n",
    "\n",
    "stacked_data.plot(kind=\"bar\", stacked=True)\n",
    "plt.title(\"Mince Pie Consumption Breakdown\")\n",
    "plt.xlabel(\"Family Member\")\n",
    "plt.ylabel(\"Percentage Pies Consumed (%)\")"
   ]
  },
  {
   "cell_type": "code",
   "execution_count": 192,
   "metadata": {},
   "outputs": [
    {
     "data": {
      "text/plain": [
       "date      1.010115\n",
       "resort    1.010115\n",
       "dtype: float64"
      ]
     },
     "execution_count": 192,
     "metadata": {},
     "output_type": "execute_result"
    }
   ],
   "source": [
    "pbs.count()/abs((pbs.date.min() - pbs.date.max())/np.timedelta64(1, 'M'))"
   ]
  },
  {
   "cell_type": "code",
   "execution_count": 284,
   "metadata": {},
   "outputs": [
    {
     "data": {
      "text/plain": [
       "0.5606653620352251"
      ]
     },
     "execution_count": 284,
     "metadata": {},
     "output_type": "execute_result"
    }
   ],
   "source": [
    "(1719/ 3066)"
   ]
  },
  {
   "cell_type": "code",
   "execution_count": 286,
   "metadata": {},
   "outputs": [
    {
     "data": {
      "text/plain": [
       "0.42204827136333983"
      ]
     },
     "execution_count": 286,
     "metadata": {},
     "output_type": "execute_result"
    }
   ],
   "source": [
    "(1294/3066) "
   ]
  },
  {
   "cell_type": "code",
   "execution_count": 289,
   "metadata": {},
   "outputs": [
    {
     "data": {
      "text/plain": [
       "0.23918544402940115"
      ]
     },
     "execution_count": 289,
     "metadata": {},
     "output_type": "execute_result"
    }
   ],
   "source": [
    "5955 / (5955 + 18942)1:"
   ]
  },
  {
   "cell_type": "code",
   "execution_count": 290,
   "metadata": {},
   "outputs": [
    {
     "data": {
      "text/plain": [
       "0.7608145559705989"
      ]
     },
     "execution_count": 290,
     "metadata": {},
     "output_type": "execute_result"
    }
   ],
   "source": [
    "18942 / (5955 + 18942)"
   ]
  },
  {
   "cell_type": "markdown",
   "metadata": {},
   "source": [
    "### Main Concept"
   ]
  },
  {
   "cell_type": "code",
   "execution_count": null,
   "metadata": {},
   "outputs": [],
   "source": [
    "# Sentence with max confidence main concept\n",
    "pd.read_sql_query(\"\"\"\n",
    "SELECT Sentence.sentence_ID, sentence, term, wiki_num, max(confidence)\n",
    "FROM Sentence \n",
    "JOIN Sentence_Wikification \n",
    "ON Sentence.sentence_ID = Sentence_Wikification.sentence_ID\n",
    "GROUP BY Sentence_Wikification.sentence_ID\n",
    "HAVING max(confidence) > 0.5\"\"\", connection)  # + topic , resort"
   ]
  },
  {
   "cell_type": "code",
   "execution_count": null,
   "metadata": {},
   "outputs": [],
   "source": [
    "# find PB by term from title\n",
    "pd.read_sql_query(\"\"\"\n",
    "SELECT *\n",
    "FROM Press_Briefing\n",
    "WHERE title LIKE '%quanten%'\"\"\", connection).head()"
   ]
  },
  {
   "cell_type": "code",
   "execution_count": null,
   "metadata": {},
   "outputs": [],
   "source": [
    "# Qanten PB with main concept\n",
    "pd.read_sql_query(\"\"\"\n",
    "SELECT *\n",
    "FROM Sentence \n",
    "JOIN Sentence_Wikification \n",
    "ON Sentence.sentence_ID = Sentence_Wikification.sentence_ID\n",
    "WHERE pb_ID = 10\n",
    "\"\"\", connection).head()"
   ]
  },
  {
   "cell_type": "markdown",
   "metadata": {},
   "source": [
    "### "
   ]
  },
  {
   "cell_type": "markdown",
   "metadata": {},
   "source": [
    "### Pre labeled data translate train"
   ]
  },
  {
   "cell_type": "code",
   "execution_count": 12,
   "metadata": {},
   "outputs": [],
   "source": [
    "data = pd.read_csv(os.path.join(\"data\", \"SMC_dataset\", \"pre_labeled\", \"SMC_claim_setences_pre.csv\"), names=[\"sentence_ID\", \"title\", \"sentence\", \"prob\"])\n",
    "data.head()"
   ]
  },
  {
   "cell_type": "code",
   "execution_count": 47,
   "metadata": {},
   "outputs": [
    {
     "data": {
      "text/plain": [
       "<AxesSubplot:title={'center':'Predicted claim probability'}, xlabel='Sentences', ylabel='Predicted claim probability'>"
      ]
     },
     "execution_count": 47,
     "metadata": {},
     "output_type": "execute_result"
    },
    {
     "data": {
      "image/png": "[encoded data removed]",
      "text/plain": [
       "<Figure size 432x288 with 1 Axes>"
      ]
     },
     "metadata": {},
     "output_type": "display_data"
    }
   ],
   "source": [
    "plt.figure(facecolor=\"white\")\n",
    "data.prob.sort_values().reset_index(drop=True).plot.line(xlabel=\"Sentences\", ylabel=\"Predicted claim probability\", title=\"Predicted claim probability\")"
   ]
  },
  {
   "cell_type": "code",
   "execution_count": 53,
   "metadata": {},
   "outputs": [
    {
     "data": {
      "text/plain": [
       "0.1    0.002265\n",
       "0.2    0.002811\n",
       "0.3    0.003383\n",
       "0.4    0.004409\n",
       "0.5    0.007969\n",
       "0.6    0.034142\n",
       "0.7    0.218444\n",
       "0.8    0.982467\n",
       "0.9    0.992475\n",
       "Name: prob, dtype: float64"
      ]
     },
     "execution_count": 53,
     "metadata": {},
     "output_type": "execute_result"
    }
   ],
   "source": [
    "data.prob.quantile([.1, .2, .3, .4,.5,.6,.7,.8,.9])"
   ]
  }
 ],
 "metadata": {
  "interpreter": {
   "hash": "31f2aee4e71d21fbe5cf8b01ff0e069b9275f58929596ceb00d14d90e3e16cd6"
  },
  "kernelspec": {
   "display_name": "Python 3.9.2 64-bit",
   "language": "python",
   "name": "python3"
  },
  "language_info": {
   "codemirror_mode": {
    "name": "ipython",
    "version": 3
   },
   "file_extension": ".py",
   "mimetype": "text/x-python",
   "name": "python",
   "nbconvert_exporter": "python",
   "pygments_lexer": "ipython3",
   "version": "3.9.9"
  },
  "orig_nbformat": 4
 },
 "nbformat": 4,
 "nbformat_minor": 2
}
