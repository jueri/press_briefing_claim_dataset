{
 "cells": [
  {
   "cell_type": "markdown",
   "metadata": {},
   "source": [
    "# Dataset analysis"
   ]
  },
  {
   "cell_type": "code",
   "execution_count": null,
   "metadata": {},
   "outputs": [],
   "source": [
    "import os\n",
    "\n",
    "import pandas as pd\n",
    "import matplotlib.pyplot as plt  # type: ignore\n"
   ]
  },
  {
   "cell_type": "markdown",
   "metadata": {},
   "source": [
    "### Base data:"
   ]
  },
  {
   "cell_type": "code",
   "execution_count": null,
   "metadata": {},
   "outputs": [],
   "source": [
    "pd.read_sql_query(\"\"\"\n",
    "SELECT Sentence.sentence_ID, sentence, term, wiki_num, max(confidence)\n",
    "FROM Sentence \n",
    "JOIN Sentence_Wikification \n",
    "ON Sentence.sentence_ID = Sentence_Wikification.sentence_ID\n",
    "GROUP BY Sentence_Wikification.sentence_ID\n",
    "HAVING max(confidence) > 0.5\"\"\", connection)  # + topic , resort"
   ]
  },
  {
   "cell_type": "code",
   "execution_count": null,
   "metadata": {},
   "outputs": [],
   "source": [
    "pd.read_sql_query(\"\"\"\n",
    "SELECT *\n",
    "FROM Press_Briefing\n",
    "WHERE title LIKE '%quanten%'\"\"\", connection).head()"
   ]
  },
  {
   "cell_type": "code",
   "execution_count": null,
   "metadata": {},
   "outputs": [],
   "source": [
    "pd.read_sql_query(\"\"\"\n",
    "SELECT *\n",
    "FROM Sentence \n",
    "JOIN Sentence_Wikification \n",
    "ON Sentence.sentence_ID = Sentence_Wikification.sentence_ID\n",
    "WHERE pb_ID = 10\n",
    "\"\"\", connection)"
   ]
  },
  {
   "cell_type": "code",
   "execution_count": null,
   "metadata": {},
   "outputs": [],
   "source": [
    "pd.read_sql_query(\"\"\"\n",
    "SELECT sentence\n",
    "FROM Sentence \n",
    "WHERE pb_ID = 10\n",
    "\"\"\", connection)"
   ]
  },
  {
   "cell_type": "markdown",
   "metadata": {},
   "source": [
    "### Pre labeled data"
   ]
  },
  {
   "cell_type": "code",
   "execution_count": 12,
   "metadata": {},
   "outputs": [],
   "source": [
    "data = pd.read_csv(os.path.join(\"data\", \"SMC_dataset\", \"pre_labeled\", \"SMC_claim_setences_pre.csv\"), names=[\"sentence_ID\", \"title\", \"sentence\", \"prob\"])\n",
    "data.head()"
   ]
  },
  {
   "cell_type": "code",
   "execution_count": 47,
   "metadata": {},
   "outputs": [
    {
     "data": {
      "text/plain": [
       "<AxesSubplot:title={'center':'Predicted claim probability'}, xlabel='Sentences', ylabel='Predicted claim probability'>"
      ]
     },
     "execution_count": 47,
     "metadata": {},
     "output_type": "execute_result"
    },
    {
     "data": {
      "image/png": "[encoded data removed]",
      "text/plain": [
       "<Figure size 432x288 with 1 Axes>"
      ]
     },
     "metadata": {},
     "output_type": "display_data"
    }
   ],
   "source": [
    "plt.figure(facecolor=\"white\")\n",
    "data.prob.sort_values().reset_index(drop=True).plot.line(xlabel=\"Sentences\", ylabel=\"Predicted claim probability\", title=\"Predicted claim probability\")"
   ]
  },
  {
   "cell_type": "code",
   "execution_count": 53,
   "metadata": {},
   "outputs": [
    {
     "data": {
      "text/plain": [
       "0.1    0.002265\n",
       "0.2    0.002811\n",
       "0.3    0.003383\n",
       "0.4    0.004409\n",
       "0.5    0.007969\n",
       "0.6    0.034142\n",
       "0.7    0.218444\n",
       "0.8    0.982467\n",
       "0.9    0.992475\n",
       "Name: prob, dtype: float64"
      ]
     },
     "execution_count": 53,
     "metadata": {},
     "output_type": "execute_result"
    }
   ],
   "source": [
    "data.prob.quantile([.1, .2, .3, .4,.5,.6,.7,.8,.9])"
   ]
  }
 ],
 "metadata": {
  "interpreter": {
   "hash": "31f2aee4e71d21fbe5cf8b01ff0e069b9275f58929596ceb00d14d90e3e16cd6"
  },
  "kernelspec": {
   "display_name": "Python 3.9.2 64-bit",
   "language": "python",
   "name": "python3"
  },
  "language_info": {
   "codemirror_mode": {
    "name": "ipython",
    "version": 3
   },
   "file_extension": ".py",
   "mimetype": "text/x-python",
   "name": "python",
   "nbconvert_exporter": "python",
   "pygments_lexer": "ipython3",
   "version": "3.8.9"
  },
  "orig_nbformat": 4
 },
 "nbformat": 4,
 "nbformat_minor": 2
}
